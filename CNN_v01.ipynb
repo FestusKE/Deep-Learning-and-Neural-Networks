{
 "cells": [
  {
   "cell_type": "code",
   "execution_count": 1,
   "id": "bd347e60",
   "metadata": {},
   "outputs": [],
   "source": [
    "import numpy as np\n",
    "import pandas as pd\n",
    "%matplotlib inline\n",
    "import matplotlib as mpl\n",
    "import matplotlib.pyplot as plt"
   ]
  },
  {
   "cell_type": "code",
   "execution_count": 2,
   "id": "968b4f31",
   "metadata": {},
   "outputs": [],
   "source": [
    "import tensorflow as tf\n",
    "from tensorflow import keras"
   ]
  },
  {
   "cell_type": "code",
   "execution_count": 3,
   "id": "6ba346da",
   "metadata": {},
   "outputs": [],
   "source": [
    "fashion_mnist = keras.datasets.fashion_mnist\n",
    "(x_train_full, y_train_full), (x_test, y_test) = fashion_mnist.load_data()"
   ]
  },
  {
   "cell_type": "code",
   "execution_count": 4,
   "id": "826ea3f8",
   "metadata": {},
   "outputs": [],
   "source": [
    "class_names = [\"t-shirt/top\", \"Trouser\",\"Pullover\",\"Dress\",\"Coat\",\n",
    "               \"Sandal\",\"Shirt\",\"Sneaker\",\"Bag\",\"Ankle-Boot\"]"
   ]
  },
  {
   "cell_type": "markdown",
   "id": "412f6957",
   "metadata": {},
   "source": [
    "#  Data Reshape"
   ]
  },
  {
   "cell_type": "code",
   "execution_count": 5,
   "id": "a1fd84ca",
   "metadata": {},
   "outputs": [],
   "source": [
    "x_train_full = x_train_full.reshape((60000,28,28,1))\n",
    "x_test = x_test.reshape((10000,28,28,1))"
   ]
  },
  {
   "cell_type": "markdown",
   "id": "8e1e9cee",
   "metadata": {},
   "source": [
    "# Data Normalization"
   ]
  },
  {
   "cell_type": "code",
   "execution_count": 6,
   "id": "21b63309",
   "metadata": {},
   "outputs": [],
   "source": [
    "x_train_n = x_train_full/255\n",
    "x_test_n = x_test/255"
   ]
  },
  {
   "cell_type": "markdown",
   "id": "2cf206d6",
   "metadata": {},
   "source": [
    "# Split the Data into Train/Validation/Test Sets"
   ]
  },
  {
   "cell_type": "markdown",
   "id": "6f79b891",
   "metadata": {},
   "source": [
    "In the earlier step of importing the data, we had 60000 datasets for training and 10000 test datasets. Now we further split the training data into train/validation. here's how each of the dataset is used in deep learning\n",
    " - Training Data -- used for training the model\n",
    " - Validation Data -- used for tuning the hyperparameters and evaluate the models\n",
    " - Test data -- used to test the model after it has gone through the initial vetting by the validation set"
   ]
  },
  {
   "cell_type": "code",
   "execution_count": 7,
   "id": "98dbf77f",
   "metadata": {},
   "outputs": [],
   "source": [
    "x_valid, x_train = x_train_n[:5000],x_train_n[5000:]\n",
    "y_valid, y_train = y_train_full[:5000],y_train_full[5000:]\n",
    "x_test = x_test_n"
   ]
  },
  {
   "cell_type": "markdown",
   "id": "fabc76d6",
   "metadata": {},
   "source": [
    "# Create Model Architecture"
   ]
  },
  {
   "cell_type": "code",
   "execution_count": 8,
   "id": "2c124cf4",
   "metadata": {},
   "outputs": [],
   "source": [
    "np.random.seed(42)\n",
    "tf.random.set_seed(42)"
   ]
  },
  {
   "cell_type": "markdown",
   "id": "d19da496",
   "metadata": {},
   "source": [
    "#  Architecture"
   ]
  },
  {
   "cell_type": "code",
   "execution_count": 9,
   "id": "cd848a4d",
   "metadata": {},
   "outputs": [],
   "source": [
    "model = keras.models.Sequential()\n",
    "model.add(keras.layers.Conv2D(filters = 32, kernel_size = (3, 3), strides = 1, padding = 'valid', activation = \"relu\", input_shape = (28,28,1)))\n",
    "model.add(keras.layers.MaxPooling2D(2,2))\n",
    "\n",
    "model.add(keras.layers.Flatten())\n",
    "model.add(keras.layers.Dense(300, activation = \"relu\"))\n",
    "model.add(keras.layers.Dense(100, activation = \"relu\"))\n",
    "model.add(keras.layers.Dense(10, activation = \"softmax\"))"
   ]
  },
  {
   "cell_type": "code",
   "execution_count": 10,
   "id": "7c8ff17b",
   "metadata": {},
   "outputs": [
    {
     "name": "stdout",
     "output_type": "stream",
     "text": [
      "Model: \"sequential\"\n",
      "_________________________________________________________________\n",
      "Layer (type)                 Output Shape              Param #   \n",
      "=================================================================\n",
      "conv2d (Conv2D)              (None, 26, 26, 32)        320       \n",
      "_________________________________________________________________\n",
      "max_pooling2d (MaxPooling2D) (None, 13, 13, 32)        0         \n",
      "_________________________________________________________________\n",
      "flatten (Flatten)            (None, 5408)              0         \n",
      "_________________________________________________________________\n",
      "dense (Dense)                (None, 300)               1622700   \n",
      "_________________________________________________________________\n",
      "dense_1 (Dense)              (None, 100)               30100     \n",
      "_________________________________________________________________\n",
      "dense_2 (Dense)              (None, 10)                1010      \n",
      "=================================================================\n",
      "Total params: 1,654,130\n",
      "Trainable params: 1,654,130\n",
      "Non-trainable params: 0\n",
      "_________________________________________________________________\n"
     ]
    }
   ],
   "source": [
    "model.summary()"
   ]
  },
  {
   "cell_type": "code",
   "execution_count": 11,
   "id": "0535495e",
   "metadata": {},
   "outputs": [],
   "source": [
    "model.compile(loss = \"sparse_categorical_crossentropy\",\n",
    "             optimizer = \"sgd\",\n",
    "             metrics = [\"accuracy\"])"
   ]
  },
  {
   "cell_type": "code",
   "execution_count": 12,
   "id": "3da71368",
   "metadata": {},
   "outputs": [
    {
     "name": "stdout",
     "output_type": "stream",
     "text": [
      "Epoch 1/30\n",
      "860/860 [==============================] - 42s 49ms/step - loss: 0.8766 - accuracy: 0.6991 - val_loss: 0.7547 - val_accuracy: 0.7348\n",
      "Epoch 2/30\n",
      "860/860 [==============================] - 39s 46ms/step - loss: 0.5385 - accuracy: 0.8047 - val_loss: 0.4897 - val_accuracy: 0.8192\n",
      "Epoch 3/30\n",
      "860/860 [==============================] - 40s 47ms/step - loss: 0.4809 - accuracy: 0.8262 - val_loss: 0.9119 - val_accuracy: 0.7100\n",
      "Epoch 4/30\n",
      "860/860 [==============================] - 41s 48ms/step - loss: 0.4439 - accuracy: 0.8415 - val_loss: 0.4147 - val_accuracy: 0.8566\n",
      "Epoch 5/30\n",
      "860/860 [==============================] - 39s 46ms/step - loss: 0.4200 - accuracy: 0.8500 - val_loss: 0.4400 - val_accuracy: 0.8458\n",
      "Epoch 6/30\n",
      "860/860 [==============================] - 40s 46ms/step - loss: 0.3956 - accuracy: 0.8585 - val_loss: 0.3762 - val_accuracy: 0.8706\n",
      "Epoch 7/30\n",
      "860/860 [==============================] - 40s 47ms/step - loss: 0.3781 - accuracy: 0.8659 - val_loss: 0.4037 - val_accuracy: 0.8554\n",
      "Epoch 8/30\n",
      "860/860 [==============================] - 39s 46ms/step - loss: 0.3630 - accuracy: 0.8701 - val_loss: 0.5037 - val_accuracy: 0.8138\n",
      "Epoch 9/30\n",
      "860/860 [==============================] - 40s 47ms/step - loss: 0.3490 - accuracy: 0.8741 - val_loss: 0.3712 - val_accuracy: 0.8676\n",
      "Epoch 10/30\n",
      "860/860 [==============================] - 40s 47ms/step - loss: 0.3371 - accuracy: 0.8788 - val_loss: 0.3860 - val_accuracy: 0.8574\n",
      "Epoch 11/30\n",
      "860/860 [==============================] - 39s 46ms/step - loss: 0.3249 - accuracy: 0.8818 - val_loss: 0.3449 - val_accuracy: 0.8764\n",
      "Epoch 12/30\n",
      "860/860 [==============================] - 41s 48ms/step - loss: 0.3138 - accuracy: 0.8868 - val_loss: 0.3222 - val_accuracy: 0.8862\n",
      "Epoch 13/30\n",
      "860/860 [==============================] - 40s 46ms/step - loss: 0.3063 - accuracy: 0.8893 - val_loss: 0.3331 - val_accuracy: 0.8862\n",
      "Epoch 14/30\n",
      "860/860 [==============================] - 39s 45ms/step - loss: 0.2975 - accuracy: 0.8915 - val_loss: 0.3874 - val_accuracy: 0.8570\n",
      "Epoch 15/30\n",
      "860/860 [==============================] - 40s 46ms/step - loss: 0.2897 - accuracy: 0.8949 - val_loss: 0.3807 - val_accuracy: 0.8634\n",
      "Epoch 16/30\n",
      "860/860 [==============================] - 40s 47ms/step - loss: 0.2833 - accuracy: 0.8976 - val_loss: 0.2951 - val_accuracy: 0.8920\n",
      "Epoch 17/30\n",
      "860/860 [==============================] - 40s 46ms/step - loss: 0.2756 - accuracy: 0.8998 - val_loss: 0.4134 - val_accuracy: 0.8600\n",
      "Epoch 18/30\n",
      "860/860 [==============================] - 40s 47ms/step - loss: 0.2700 - accuracy: 0.9012 - val_loss: 0.3468 - val_accuracy: 0.8768\n",
      "Epoch 19/30\n",
      "860/860 [==============================] - 39s 45ms/step - loss: 0.2638 - accuracy: 0.9037 - val_loss: 0.3047 - val_accuracy: 0.8898\n",
      "Epoch 20/30\n",
      "860/860 [==============================] - 37s 43ms/step - loss: 0.2584 - accuracy: 0.9055 - val_loss: 0.3190 - val_accuracy: 0.8832\n",
      "Epoch 21/30\n",
      "860/860 [==============================] - 38s 44ms/step - loss: 0.2524 - accuracy: 0.9080 - val_loss: 0.2831 - val_accuracy: 0.8986\n",
      "Epoch 22/30\n",
      "860/860 [==============================] - 38s 45ms/step - loss: 0.2471 - accuracy: 0.9092 - val_loss: 0.2881 - val_accuracy: 0.8950\n",
      "Epoch 23/30\n",
      "860/860 [==============================] - 37s 43ms/step - loss: 0.2418 - accuracy: 0.9105 - val_loss: 0.2784 - val_accuracy: 0.9020\n",
      "Epoch 24/30\n",
      "860/860 [==============================] - 38s 44ms/step - loss: 0.2367 - accuracy: 0.9131 - val_loss: 0.2992 - val_accuracy: 0.8920\n",
      "Epoch 25/30\n",
      "860/860 [==============================] - 37s 43ms/step - loss: 0.2323 - accuracy: 0.9161 - val_loss: 0.2914 - val_accuracy: 0.8960\n",
      "Epoch 26/30\n",
      "860/860 [==============================] - 38s 44ms/step - loss: 0.2287 - accuracy: 0.9158 - val_loss: 0.2788 - val_accuracy: 0.9026\n",
      "Epoch 27/30\n",
      "860/860 [==============================] - 38s 44ms/step - loss: 0.2245 - accuracy: 0.9176 - val_loss: 0.2797 - val_accuracy: 0.8978\n",
      "Epoch 28/30\n",
      "860/860 [==============================] - 37s 43ms/step - loss: 0.2196 - accuracy: 0.9196 - val_loss: 0.2995 - val_accuracy: 0.8940\n",
      "Epoch 29/30\n",
      "860/860 [==============================] - 39s 45ms/step - loss: 0.2145 - accuracy: 0.9212 - val_loss: 0.2714 - val_accuracy: 0.9030\n",
      "Epoch 30/30\n",
      "860/860 [==============================] - 38s 44ms/step - loss: 0.2116 - accuracy: 0.9218 - val_loss: 0.2717 - val_accuracy: 0.9040\n"
     ]
    }
   ],
   "source": [
    "model_history = model.fit(x_train, y_train, epochs = 30, batch_size = 64, \n",
    "                         validation_data = (x_valid, y_valid))"
   ]
  },
  {
   "cell_type": "code",
   "execution_count": 13,
   "id": "df019b67",
   "metadata": {},
   "outputs": [
    {
     "data": {
      "image/png": "[encoded data removed]",
      "text/plain": [
       "<Figure size 576x360 with 1 Axes>"
      ]
     },
     "metadata": {
      "needs_background": "light"
     },
     "output_type": "display_data"
    }
   ],
   "source": [
    "import pandas as pd\n",
    "\n",
    "pd.DataFrame(model_history.history).plot(figsize = (8, 5))\n",
    "plt.grid(True)\n",
    "plt.gca().set_ylim(0,1)\n",
    "plt.show()"
   ]
  },
  {
   "cell_type": "code",
   "execution_count": 14,
   "id": "6ea0cdb8",
   "metadata": {},
   "outputs": [
    {
     "name": "stdout",
     "output_type": "stream",
     "text": [
      "313/313 [==============================] - 3s 9ms/step - loss: 0.2810 - accuracy: 0.8978\n"
     ]
    }
   ],
   "source": [
    "ev = model.evaluate(x_test_n, y_test)"
   ]
  },
  {
   "cell_type": "code",
   "execution_count": 15,
   "id": "adb8687c",
   "metadata": {},
   "outputs": [
    {
     "data": {
      "text/plain": [
       "[0.2809881567955017, 0.8978000283241272]"
      ]
     },
     "execution_count": 15,
     "metadata": {},
     "output_type": "execute_result"
    }
   ],
   "source": [
    "ev"
   ]
  },
  {
   "cell_type": "code",
   "execution_count": 16,
   "id": "f572279a",
   "metadata": {},
   "outputs": [],
   "source": [
    "x_new = x_test[:3]"
   ]
  },
  {
   "cell_type": "code",
   "execution_count": 17,
   "id": "5b19aad7",
   "metadata": {},
   "outputs": [
    {
     "name": "stdout",
     "output_type": "stream",
     "text": [
      "WARNING:tensorflow:From <ipython-input-17-2a45323cfad0>:1: Sequential.predict_classes (from tensorflow.python.keras.engine.sequential) is deprecated and will be removed after 2021-01-01.\n",
      "Instructions for updating:\n",
      "Please use instead:* `np.argmax(model.predict(x), axis=-1)`,   if your model does multi-class classification   (e.g. if it uses a `softmax` last-layer activation).* `(model.predict(x) > 0.5).astype(\"int32\")`,   if your model does binary classification   (e.g. if it uses a `sigmoid` last-layer activation).\n"
     ]
    },
    {
     "data": {
      "text/plain": [
       "array([9, 2, 1], dtype=int64)"
      ]
     },
     "execution_count": 17,
     "metadata": {},
     "output_type": "execute_result"
    }
   ],
   "source": [
    "y_pred = model.predict_classes(x_new)\n",
    "y_pred"
   ]
  },
  {
   "cell_type": "code",
   "execution_count": 18,
   "id": "55bedbda",
   "metadata": {},
   "outputs": [
    {
     "data": {
      "text/plain": [
       "array([9, 2, 1], dtype=uint8)"
      ]
     },
     "execution_count": 18,
     "metadata": {},
     "output_type": "execute_result"
    }
   ],
   "source": [
    "y_test[:3]"
   ]
  },
  {
   "cell_type": "code",
   "execution_count": 19,
   "id": "a058f77e",
   "metadata": {},
   "outputs": [
    {
     "name": "stdout",
     "output_type": "stream",
     "text": [
      "AxesImage(54,36;334.8x217.44)\n"
     ]
    },
    {
     "data": {
      "image/png": "[encoded data removed]",
      "text/plain": [
       "<Figure size 432x288 with 1 Axes>"
      ]
     },
     "metadata": {
      "needs_background": "light"
     },
     "output_type": "display_data"
    }
   ],
   "source": [
    "print(plt.imshow(x_test[0].reshape((28,28))))"
   ]
  },
  {
   "cell_type": "code",
   "execution_count": 20,
   "id": "89c3eabc",
   "metadata": {},
   "outputs": [],
   "source": [
    "keras.backend.clear_session()"
   ]
  },
  {
   "cell_type": "code",
   "execution_count": 21,
   "id": "55fbc7b4",
   "metadata": {},
   "outputs": [],
   "source": [
    "del model"
   ]
  },
  {
   "cell_type": "markdown",
   "id": "cb68fca4",
   "metadata": {},
   "source": [
    "# Pooling vs No Pooling"
   ]
  },
  {
   "cell_type": "code",
   "execution_count": 22,
   "id": "394d1e99",
   "metadata": {},
   "outputs": [],
   "source": [
    "model_a = keras.models.Sequential()\n",
    "model_a.add(keras.layers.Conv2D(filters = 32, kernel_size = (3, 3), strides = 1, padding = 'valid', activation = \"relu\", input_shape = (28,28,1)))\n",
    "model_a.add(keras.layers.MaxPooling2D(2,2))\n",
    "model_a.add(keras.layers.Flatten())\n",
    "model_a.add(keras.layers.Dense(300, activation = \"relu\"))\n",
    "model_a.add(keras.layers.Dense(100, activation = \"relu\"))\n",
    "model_a.add(keras.layers.Dense(10, activation = \"softmax\"))\n",
    "\n",
    "model_b = keras.models.Sequential()\n",
    "model_b.add(keras.layers.Conv2D(filters = 32, kernel_size = (3, 3), strides = 1, padding = 'valid', activation = \"relu\", input_shape = (28,28,1)))\n",
    "model_b.add(keras.layers.Flatten())\n",
    "model_b.add(keras.layers.Dense(300, activation = \"relu\"))\n",
    "model_b.add(keras.layers.Dense(100, activation = \"relu\"))\n",
    "model_b.add(keras.layers.Dense(10, activation = \"softmax\"))"
   ]
  },
  {
   "cell_type": "code",
   "execution_count": 23,
   "id": "727de56d",
   "metadata": {},
   "outputs": [
    {
     "name": "stdout",
     "output_type": "stream",
     "text": [
      "Model: \"sequential\"\n",
      "_________________________________________________________________\n",
      "Layer (type)                 Output Shape              Param #   \n",
      "=================================================================\n",
      "conv2d (Conv2D)              (None, 26, 26, 32)        320       \n",
      "_________________________________________________________________\n",
      "max_pooling2d (MaxPooling2D) (None, 13, 13, 32)        0         \n",
      "_________________________________________________________________\n",
      "flatten (Flatten)            (None, 5408)              0         \n",
      "_________________________________________________________________\n",
      "dense (Dense)                (None, 300)               1622700   \n",
      "_________________________________________________________________\n",
      "dense_1 (Dense)              (None, 100)               30100     \n",
      "_________________________________________________________________\n",
      "dense_2 (Dense)              (None, 10)                1010      \n",
      "=================================================================\n",
      "Total params: 1,654,130\n",
      "Trainable params: 1,654,130\n",
      "Non-trainable params: 0\n",
      "_________________________________________________________________\n"
     ]
    }
   ],
   "source": [
    "model_a.summary()"
   ]
  },
  {
   "cell_type": "code",
   "execution_count": 24,
   "id": "cccc5009",
   "metadata": {},
   "outputs": [
    {
     "name": "stdout",
     "output_type": "stream",
     "text": [
      "Model: \"sequential_1\"\n",
      "_________________________________________________________________\n",
      "Layer (type)                 Output Shape              Param #   \n",
      "=================================================================\n",
      "conv2d_1 (Conv2D)            (None, 26, 26, 32)        320       \n",
      "_________________________________________________________________\n",
      "flatten_1 (Flatten)          (None, 21632)             0         \n",
      "_________________________________________________________________\n",
      "dense_3 (Dense)              (None, 300)               6489900   \n",
      "_________________________________________________________________\n",
      "dense_4 (Dense)              (None, 100)               30100     \n",
      "_________________________________________________________________\n",
      "dense_5 (Dense)              (None, 10)                1010      \n",
      "=================================================================\n",
      "Total params: 6,521,330\n",
      "Trainable params: 6,521,330\n",
      "Non-trainable params: 0\n",
      "_________________________________________________________________\n"
     ]
    }
   ],
   "source": [
    "model_b.summary()"
   ]
  },
  {
   "cell_type": "code",
   "execution_count": 25,
   "id": "8fd88d08",
   "metadata": {},
   "outputs": [],
   "source": [
    "model_a.compile(loss = \"sparse_categorical_crossentropy\",\n",
    "             optimizer = \"sgd\",\n",
    "             metrics = [\"accuracy\"])\n",
    "\n",
    "model_b.compile(loss = \"sparse_categorical_crossentropy\",\n",
    "             optimizer = \"sgd\",\n",
    "             metrics = [\"accuracy\"])"
   ]
  },
  {
   "cell_type": "code",
   "execution_count": 26,
   "id": "89b86e1a",
   "metadata": {},
   "outputs": [
    {
     "name": "stdout",
     "output_type": "stream",
     "text": [
      "Epoch 1/3\n",
      "860/860 [==============================] - 37s 43ms/step - loss: 0.8467 - accuracy: 0.7085 - val_loss: 0.7915 - val_accuracy: 0.7100\n",
      "Epoch 2/3\n",
      "860/860 [==============================] - 38s 45ms/step - loss: 0.5358 - accuracy: 0.8066 - val_loss: 0.4994 - val_accuracy: 0.8078\n",
      "Epoch 3/3\n",
      "860/860 [==============================] - 38s 44ms/step - loss: 0.4789 - accuracy: 0.8271 - val_loss: 0.9672 - val_accuracy: 0.6948\n"
     ]
    }
   ],
   "source": [
    "model_history_a = model_a.fit(x_train, y_train, epochs = 3, batch_size = 64, \n",
    "                         validation_data = (x_valid, y_valid))"
   ]
  },
  {
   "cell_type": "code",
   "execution_count": 27,
   "id": "2a8f3b4e",
   "metadata": {},
   "outputs": [
    {
     "name": "stdout",
     "output_type": "stream",
     "text": [
      "Epoch 1/3\n",
      "860/860 [==============================] - 85s 99ms/step - loss: 0.7398 - accuracy: 0.7450 - val_loss: 0.7188 - val_accuracy: 0.7528\n",
      "Epoch 2/3\n",
      "860/860 [==============================] - 86s 100ms/step - loss: 0.4946 - accuracy: 0.8219 - val_loss: 0.4747 - val_accuracy: 0.8166\n",
      "Epoch 3/3\n",
      "860/860 [==============================] - 85s 99ms/step - loss: 0.4430 - accuracy: 0.8396 - val_loss: 0.9764 - val_accuracy: 0.6956\n"
     ]
    }
   ],
   "source": [
    "model_history_b = model_b.fit(x_train, y_train, epochs = 3, batch_size = 64, \n",
    "                         validation_data = (x_valid, y_valid))"
   ]
  },
  {
   "cell_type": "code",
   "execution_count": null,
   "id": "add512c5",
   "metadata": {},
   "outputs": [],
   "source": []
  },
  {
   "cell_type": "code",
   "execution_count": null,
   "id": "4a9e92b3",
   "metadata": {},
   "outputs": [],
   "source": []
  },
  {
   "cell_type": "code",
   "execution_count": null,
   "id": "af84643b",
   "metadata": {},
   "outputs": [],
   "source": []
  },
  {
   "cell_type": "code",
   "execution_count": null,
   "id": "5c93a2f9",
   "metadata": {},
   "outputs": [],
   "source": []
  },
  {
   "cell_type": "code",
   "execution_count": null,
   "id": "a3744de0",
   "metadata": {},
   "outputs": [],
   "source": []
  },
  {
   "cell_type": "code",
   "execution_count": null,
   "id": "7150c8e5",
   "metadata": {},
   "outputs": [],
   "source": []
  }
 ],
 "metadata": {
  "kernelspec": {
   "display_name": "Python 3 (ipykernel)",
   "language": "python",
   "name": "python3"
  },
  "language_info": {
   "codemirror_mode": {
    "name": "ipython",
    "version": 3
   },
   "file_extension": ".py",
   "mimetype": "text/x-python",
   "name": "python",
   "nbconvert_exporter": "python",
   "pygments_lexer": "ipython3",
   "version": "3.11.4"
  }
 },
 "nbformat": 4,
 "nbformat_minor": 5
}
